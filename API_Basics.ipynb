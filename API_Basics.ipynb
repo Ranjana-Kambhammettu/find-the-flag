{
  "cells": [
    {
      "cell_type": "markdown",
      "metadata": {
        "colab_type": "text",
        "id": "view-in-github"
      },
      "source": [
        "<a href=\"https://colab.research.google.com/github/ialimustufa/API/blob/main/API_Basics.ipynb\" target=\"_parent\"><img src=\"https://colab.research.google.com/assets/colab-badge.svg\" alt=\"Open In Colab\"/></a>"
      ]
    },
    {
      "cell_type": "markdown",
      "metadata": {
        "id": "pA5fJ-mhtyDH"
      },
      "source": [
        "# Use [Postman](https://postman.com) to Test this API.\n",
        "\n",
        "Fork this [Public Workspace](https://www.postman.com/iali-dev/workspace/getting-hands-dirty-with-apis/) and get started."
      ]
    },
    {
      "cell_type": "code",
      "execution_count": 1,
      "metadata": {
        "colab": {
          "base_uri": "https://localhost:8080/"
        },
        "id": "I6fiuo8-wngz",
        "outputId": "d6e3d6df-02c5-4522-e937-e61dcbd0479a"
      },
      "outputs": [
        {
          "name": "stderr",
          "output_type": "stream",
          "text": [
            "<>:68: SyntaxWarning: \"is\" with a literal. Did you mean \"==\"?\n",
            "<>:68: SyntaxWarning: \"is\" with a literal. Did you mean \"==\"?\n"
          ]
        },
        {
          "name": "stdout",
          "output_type": "stream",
          "text": [
            " * Serving Flask app '__main__' (lazy loading)\n",
            " * Environment: production\n",
            "\u001b[31m   WARNING: This is a development server. Do not use it in a production deployment.\u001b[0m\n",
            "\u001b[2m   Use a production WSGI server instead.\u001b[0m\n",
            " * Debug mode: off\n"
          ]
        },
        {
          "name": "stderr",
          "output_type": "stream",
          "text": [
            "C:\\Users\\HP\\AppData\\Local\\Temp/ipykernel_13392/902967618.py:68: SyntaxWarning: \"is\" with a literal. Did you mean \"==\"?\n",
            "  if id is 'c':\n",
            " * Running on http://127.0.0.1:5000/ (Press CTRL+C to quit)\n",
            "Exception in thread Thread-5:\n",
            "Traceback (most recent call last):\n",
            "  File \"C:\\Users\\HP\\AppData\\Local\\Programs\\Python\\Python39\\lib\\threading.py\", line 973, in _bootstrap_inner\n",
            "    self.run()\n",
            "  File \"C:\\Users\\HP\\AppData\\Local\\Programs\\Python\\Python39\\lib\\threading.py\", line 1286, in run\n",
            "    self.function(*self.args, **self.kwargs)\n",
            "  File \"C:\\Users\\HP\\AppData\\Local\\Programs\\Python\\Python39\\lib\\site-packages\\flask_ngrok.py\", line 70, in start_ngrok\n",
            "    ngrok_address = _run_ngrok()\n",
            "  File \"C:\\Users\\HP\\AppData\\Local\\Programs\\Python\\Python39\\lib\\site-packages\\flask_ngrok.py\", line 38, in _run_ngrok\n",
            "    tunnel_url = j['tunnels'][0]['public_url']  # Do the parsing of the get\n",
            "IndexError: list index out of range\n"
          ]
        }
      ],
      "source": [
        "from flask import Flask, jsonify\n",
        "from flask_restful import Api, Resource, reqparse\n",
        "#from flask_ngrok import run_with_ngrok\n",
        "from flask import make_response\n",
        "\n",
        "\n",
        "import random\n",
        "app = Flask(__name__)\n",
        "api = Api(app)\n",
        "\n",
        "dev_jokes = [\n",
        "    {\n",
        "        \"id\": 0,\n",
        "        \"author\": \"NA\",\n",
        "        \"joke\": \"Q: How did the Coder CEO build his company headquarters? A: By calling the Constructor();\", \n",
        "        \"source\": \"https://github.com/shrutikapoor08/devjoke/blob/master/README.md\"\n",
        "    },\n",
        "    {\n",
        "        \"id\": 1,\n",
        "        \"author\": \"NA\",\n",
        "        \"joke\": \"Q: What is Hardware? A: The part of the computer which you can kick.\",\n",
        "        \"source\": \"https://github.com/shrutikapoor08/devjoke/blob/master/README.md\"\n",
        "    },\n",
        "    {\n",
        "        \"id\": 2,\n",
        "        \"author\": \"NA\",\n",
        "        \"joke\": \"Q: Who is a programmer? A: A programmer is a machine who turns coffee into code.\",\n",
        "        \"source\": \"https://github.com/shrutikapoor08/devjoke/blob/master/README.md\"\n",
        "    },\n",
        "    {\n",
        "        \"id\": 3,\n",
        "        \"author\": \"NA\",\n",
        "        \"joke\": \"First rule of programming : If it works DON'T touch it.\",\n",
        "        \"source\": \"https://github.com/shrutikapoor08/devjoke/blob/master/README.md\"\n",
        "    }\n",
        "]\n",
        "\n",
        "class joke(Resource):\n",
        "    def get(self, id=0):\n",
        "        if not id:\n",
        "            return random.choice(dev_jokes), 200\n",
        "        for joke in dev_jokes:\n",
        "            if(joke[\"id\"] == id):\n",
        "                return joke, 200\n",
        "        return \"Joke not found\", 404\n",
        "      \n",
        "    def post(self):\n",
        "      parser = reqparse.RequestParser()\n",
        "      parser.add_argument(\"id\",type=int,required=True)\n",
        "      parser.add_argument(\"author\",required=True)\n",
        "      parser.add_argument(\"joke\",required=True)\n",
        "      parser.add_argument(\"source\")\n",
        "      params = parser.parse_args()\n",
        "      id = params[\"id\"]\n",
        "      for joke in dev_jokes:\n",
        "          if(id == joke[\"id\"]):\n",
        "              return f\"Joke with id {id} already exists add new id\", 400\n",
        "      joke = {\n",
        "          \"id\": int(id),\n",
        "          \"author\": params[\"author\"],\n",
        "          \"joke\": params[\"joke\"],\n",
        "          \"source\": params[\"source\"]\n",
        "      }\n",
        "      dev_jokes.append(joke)\n",
        "      return joke, 201\n",
        "\n",
        "    def delete(self, id='c'):\n",
        "        if id is 'c':\n",
        "          return make_response(jsonify({'error': 'ID is missing'}), 400)\n",
        "        global dev_jokes\n",
        "        dev_jokes = [joke for joke in dev_jokes if joke[\"id\"] != id]\n",
        "        return f\"Joke with id {id} is deleted.\", 200\n",
        "\n",
        "    def put(self):\n",
        "      parser = reqparse.RequestParser()\n",
        "      parser.add_argument(\"id\",type=int,required=True)\n",
        "      parser.add_argument(\"author\",required=True)\n",
        "      parser.add_argument(\"joke\",required=True)\n",
        "      parser.add_argument(\"source\")      \n",
        "      params = parser.parse_args()\n",
        "      id = params[\"id\"]\n",
        "      for obj in dev_jokes:\n",
        "          if(id == obj[\"id\"]):\n",
        "              obj[\"author\"] = params[\"author\"]\n",
        "              obj[\"joke\"] = params[\"joke\"]\n",
        "              obj[\"source\"] = params[\"source\"]\n",
        "              return obj, 204\n",
        "      else:\n",
        "            return make_response(jsonify({'error': 'ID is not present in database'}), 404)\n",
        "    \n",
        "\n",
        "class home(Resource):\n",
        "  def get(self):\n",
        "    return \"Hey there! This is a simple demo for making an API server made by Ali Mustufa Shaikh;\"\n",
        "\n",
        "api.add_resource(joke, \"/joke\", \"/joke/\", \"/joke/<int:id>\")\n",
        "api.add_resource(home,\"/\")\n",
        "\n",
        "if __name__ == '__main__':\n",
        "    run_with_ngrok(app)\n",
        "    app.run()"
      ]
    },
    {
      "cell_type": "markdown",
      "metadata": {
        "id": "Amk2qrdFB5Ua"
      },
      "source": [
        "## Advance Part\n",
        "\n",
        "\n",
        "1.   Implementation Auth (Username and Password) use the Advance of API collection for checking this demo.\n",
        "2.   Implementation of Proper Error Handling\n",
        "\n"
      ]
    },
    {
      "cell_type": "code",
      "execution_count": 20,
      "metadata": {
        "colab": {
          "base_uri": "https://localhost:8080/"
        },
        "id": "uSE7dFpGrYZy",
        "outputId": "a01f75cc-9b6f-4e38-f4a9-3c5376f6e4e9"
      },
      "outputs": [
        {
          "name": "stdout",
          "output_type": "stream",
          "text": [
            "Collecting flask-httpauth\n",
            "  Downloading https://files.pythonhosted.org/packages/b7/10/387aba19908b3fedc45741aa7e8122d3328987efacde7acc4dcfb05075f2/Flask_HTTPAuth-4.2.0-py2.py3-none-any.whl\n",
            "Requirement already satisfied: Flask in /usr/local/lib/python3.6/dist-packages (from flask-httpauth) (1.1.2)\n",
            "Requirement already satisfied: click>=5.1 in /usr/local/lib/python3.6/dist-packages (from Flask->flask-httpauth) (7.1.2)\n",
            "Requirement already satisfied: itsdangerous>=0.24 in /usr/local/lib/python3.6/dist-packages (from Flask->flask-httpauth) (1.1.0)\n",
            "Requirement already satisfied: Jinja2>=2.10.1 in /usr/local/lib/python3.6/dist-packages (from Flask->flask-httpauth) (2.11.3)\n",
            "Requirement already satisfied: Werkzeug>=0.15 in /usr/local/lib/python3.6/dist-packages (from Flask->flask-httpauth) (1.0.1)\n",
            "Requirement already satisfied: MarkupSafe>=0.23 in /usr/local/lib/python3.6/dist-packages (from Jinja2>=2.10.1->Flask->flask-httpauth) (1.1.1)\n",
            "Installing collected packages: flask-httpauth\n",
            "Successfully installed flask-httpauth-4.2.0\n"
          ]
        }
      ],
      "source": [
        "!pip install flask-httpauth"
      ]
    },
    {
      "cell_type": "code",
      "execution_count": 31,
      "metadata": {
        "colab": {
          "base_uri": "https://localhost:8080/"
        },
        "id": "EnTLsiypB4gZ",
        "outputId": "96fcd4c6-73c2-4372-cecd-15a8ac182a59"
      },
      "outputs": [
        {
          "name": "stdout",
          "output_type": "stream",
          "text": [
            " * Serving Flask app \"__main__\" (lazy loading)\n",
            " * Environment: production\n",
            "\u001b[31m   WARNING: This is a development server. Do not use it in a production deployment.\u001b[0m\n",
            "\u001b[2m   Use a production WSGI server instead.\u001b[0m\n",
            " * Debug mode: off\n"
          ]
        },
        {
          "name": "stderr",
          "output_type": "stream",
          "text": [
            " * Running on http://127.0.0.1:5000/ (Press CTRL+C to quit)\n"
          ]
        },
        {
          "name": "stdout",
          "output_type": "stream",
          "text": [
            " * Running on http://49b5c2b57127.ngrok.io\n",
            " * Traffic stats available on http://127.0.0.1:4040\n"
          ]
        }
      ],
      "source": [
        "from flask import Flask, jsonify\n",
        "from flask_restful import Api, Resource, reqparse\n",
        "from flask_ngrok import run_with_ngrok\n",
        "from flask import make_response\n",
        "import random\n",
        "\n",
        "## Add Authentication \n",
        "from flask_httpauth import HTTPBasicAuth\n",
        "\n",
        "## Auth Code Start\n",
        "auth = HTTPBasicAuth()\n",
        "\n",
        "# Add Users\n",
        "users = {\n",
        "    \"ali\": \"iali.dev\",\n",
        "    \"public\": \"public\"\n",
        "}\n",
        "\n",
        "# Get Password mechanism \n",
        "@auth.get_password\n",
        "def get_pass(username):\n",
        "    if username in users:\n",
        "        return users.get(username)\n",
        "    return None\n",
        "\n",
        "## Auth Code End\n",
        "\n",
        "app = Flask(__name__)\n",
        "api = Api(app)\n",
        "\n",
        "dev_jokes = [\n",
        "    {\n",
        "        \"id\": 0,\n",
        "        \"author\": \"NA\",\n",
        "        \"joke\": \"Q: How did the Coder CEO build his company headquarters? A: By calling the Constructor();\", \n",
        "        \"source\": \"https://github.com/shrutikapoor08/devjoke/blob/master/README.md\"\n",
        "    },\n",
        "    {\n",
        "        \"id\": 1,\n",
        "        \"author\": \"NA\",\n",
        "        \"joke\": \"Q: What is Hardware? A: The part of the computer which you can kick.\",\n",
        "        \"source\": \"https://github.com/shrutikapoor08/devjoke/blob/master/README.md\"\n",
        "    },\n",
        "    {\n",
        "        \"id\": 2,\n",
        "        \"author\": \"NA\",\n",
        "        \"joke\": \"Q: Who is a programmer? A: A programmer is a machine who turns coffee into code.\",\n",
        "        \"source\": \"https://github.com/shrutikapoor08/devjoke/blob/master/README.md\"\n",
        "    },\n",
        "    {\n",
        "        \"id\": 3,\n",
        "        \"author\": \"NA\",\n",
        "        \"joke\": \"First rule of programming : If it works DON'T touch it.\",\n",
        "        \"source\": \"https://github.com/shrutikapoor08/devjoke/blob/master/README.md\"\n",
        "    }\n",
        "]\n",
        "\n",
        "class joke(Resource):\n",
        "    def get(self, id=0):\n",
        "        if not id:\n",
        "            return random.choice(dev_jokes), 200\n",
        "        for joke in dev_jokes:\n",
        "            if(joke[\"id\"] == id):\n",
        "                return joke, 200\n",
        "        return \"Joke not found\", 404\n",
        "      \n",
        "class adjoke(Resource):\n",
        "    @auth.login_required\n",
        "    def post(self):\n",
        "      parser = reqparse.RequestParser()\n",
        "      parser.add_argument(\"id\",type=int,required=True)\n",
        "      parser.add_argument(\"author\",required=True)\n",
        "      parser.add_argument(\"joke\",required=True)\n",
        "      parser.add_argument(\"source\")\n",
        "      params = parser.parse_args()\n",
        "      id = params[\"id\"]\n",
        "      for joke in dev_jokes:\n",
        "          if(id == joke[\"id\"]): \n",
        "              return make_response(jsonify({'error': 'Joke with this id already exists add new id'}), 400)\n",
        "      joke = {\n",
        "          \"id\": int(id),\n",
        "          \"author\": params[\"author\"],\n",
        "          \"joke\": params[\"joke\"],\n",
        "          \"source\": params[\"source\"]\n",
        "      }\n",
        "      dev_jokes.append(joke)\n",
        "      return joke, 201\n",
        "\n",
        "    def put(self):\n",
        "      parser = reqparse.RequestParser()\n",
        "      parser.add_argument(\"id\",type=int,required=True)\n",
        "      parser.add_argument(\"author\",required=True)\n",
        "      parser.add_argument(\"joke\",required=True)\n",
        "      parser.add_argument(\"source\")      \n",
        "      params = parser.parse_args()\n",
        "      id = int(params[\"id\"])\n",
        "      for obj in dev_jokes:\n",
        "          if(id == obj[\"id\"]):\n",
        "              obj[\"author\"] = params[\"author\"]\n",
        "              obj[\"joke\"] = params[\"joke\"]\n",
        "              obj[\"source\"] = params[\"source\"]\n",
        "              return obj, 204\n",
        "      else:\n",
        "            return make_response(jsonify({'error': 'ID is not present in database'}), 404)\n",
        "\n",
        "    def delete(self, id='c'):\n",
        "        if id is 'c':\n",
        "          return make_response(jsonify({'error': 'ID is missing'}), 400)\n",
        "        global dev_jokes\n",
        "        dev_jokes = [joke for joke in dev_jokes if joke[\"id\"] != id]\n",
        "        return f\"Joke with id {id} is deleted.\", 200\n",
        "\n",
        "\n",
        "class home(Resource):\n",
        "  def get(self):\n",
        "    return \"Hey there! This is a simple demo for making an API server made by Ali Mustufa Shaikh;\"\n",
        "\n",
        "api.add_resource(joke, \"/joke\", \"/joke/\", \"/joke/<int:id>\")\n",
        "api.add_resource(home,\"/\")\n",
        "api.add_resource(adjoke,\"/adjoke/<int:id>\",\"/adjoke/\",\"/adjoke\")\n",
        "\n",
        "# For Error Handling Best Practises\n",
        "\n",
        "@app.errorhandler(404)\n",
        "def not_found(error):\n",
        "    return make_response(jsonify({'error': 'Not found'}), 404)\n",
        "\n",
        "@auth.error_handler\n",
        "def unauthorized():\n",
        "    return make_response(jsonify({'error': 'Unauthorized Access'}), 401)\n",
        "\n",
        "\n",
        "if __name__ == '__main__':\n",
        "    run_with_ngrok(app)\n",
        "    app.run()"
      ]
    },
    {
      "cell_type": "code",
      "execution_count": null,
      "metadata": {
        "id": "dwSWx-3TGZ6c"
      },
      "outputs": [],
      "source": []
    }
  ],
  "metadata": {
    "colab": {
      "collapsed_sections": [],
      "include_colab_link": true,
      "name": "API_Basics",
      "provenance": []
    },
    "kernelspec": {
      "display_name": "Python 3",
      "name": "python3"
    },
    "language_info": {
      "codemirror_mode": {
        "name": "ipython",
        "version": 3
      },
      "file_extension": ".py",
      "mimetype": "text/x-python",
      "name": "python",
      "nbconvert_exporter": "python",
      "pygments_lexer": "ipython3",
      "version": "3.9.7"
    }
  },
  "nbformat": 4,
  "nbformat_minor": 0
}
